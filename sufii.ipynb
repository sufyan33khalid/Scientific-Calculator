{
  "nbformat": 4,
  "nbformat_minor": 0,
  "metadata": {
    "colab": {
      "provenance": [],
      "authorship_tag": "ABX9TyOKHqv6xSXPcyUJl5LhO3yh",
      "include_colab_link": true
    },
    "kernelspec": {
      "name": "python3",
      "display_name": "Python 3"
    },
    "language_info": {
      "name": "python"
    }
  },
  "cells": [
    {
      "cell_type": "markdown",
      "metadata": {
        "id": "view-in-github",
        "colab_type": "text"
      },
      "source": [
        "<a href=\"https://colab.research.google.com/github/sufyan33khalid/scientific-calculator/blob/main/sufii.ipynb\" target=\"_parent\"><img src=\"https://colab.research.google.com/assets/colab-badge.svg\" alt=\"Open In Colab\"/></a>"
      ]
    },
    {
      "cell_type": "code",
      "execution_count": null,
      "metadata": {
        "colab": {
          "base_uri": "https://localhost:8080/"
        },
        "id": "f9czwlzlGq6Y",
        "outputId": "3e8d2587-f6d6-40e4-a0a2-79df0f977456"
      },
      "outputs": [
        {
          "output_type": "stream",
          "name": "stdout",
          "text": [
            "Welcome to the Scientific Calculator!\n",
            "Please choose an operation:\n",
            "1. Add\n",
            "2. Subtract\n",
            "3. Multiply\n",
            "4. Divide\n",
            "5. Power\n",
            "6. Square Root\n",
            "7. Logarithm\n",
            "8. Sine\n",
            "9. Cosine\n",
            "10. Tangent\n",
            "Enter your choice (1-10): 1\n",
            "Enter the first number: 22\n",
            "Enter the second number: 22\n",
            "Result: 44.0\n"
          ]
        }
      ],
      "source": []
    }
  ]
}